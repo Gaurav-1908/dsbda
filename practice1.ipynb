{
  "cells": [
    {
      "cell_type": "markdown",
      "metadata": {
        "id": "qjst0u8TtaSz"
      },
      "source": [
        "A1"
      ]
    },
    {
      "cell_type": "code",
      "execution_count": null,
      "metadata": {
        "id": "6QNR_6dZtaS3"
      },
      "outputs": [],
      "source": [
        "#subtask 1 - importing libraries\n",
        "import pandas as pd\n",
        "import numpy as np"
      ]
    },
    {
      "cell_type": "code",
      "execution_count": null,
      "metadata": {
        "id": "UeyKAFQKtaS4"
      },
      "outputs": [],
      "source": [
        "#subtask 2 - Dataset url\n",
        "# Name - COVID -19 Global Reports early March 2022\n",
        "# URL - https://www.kaggle.com/danielfesalbon/covid-19-global-reports-early-march-2022\n",
        "# local machine relative address - /covid_19_clean_complete_2022.csv/"
      ]
    },
    {
      "cell_type": "code",
      "execution_count": null,
      "metadata": {
        "id": "byRg0bGFtaS5",
        "outputId": "1f5eef92-ce2a-4cdb-b2be-f1455733a981"
      },
      "outputs": [
        {
          "data": {
            "text/html": [
              "<div>\n",
              "<style scoped>\n",
              "    .dataframe tbody tr th:only-of-type {\n",
              "        vertical-align: middle;\n",
              "    }\n",
              "\n",
              "    .dataframe tbody tr th {\n",
              "        vertical-align: top;\n",
              "    }\n",
              "\n",
              "    .dataframe thead th {\n",
              "        text-align: right;\n",
              "    }\n",
              "</style>\n",
              "<table border=\"1\" class=\"dataframe\">\n",
              "  <thead>\n",
              "    <tr style=\"text-align: right;\">\n",
              "      <th></th>\n",
              "      <th>Country/Region</th>\n",
              "      <th>Lat</th>\n",
              "      <th>Long</th>\n",
              "      <th>Date</th>\n",
              "      <th>Confirmed</th>\n",
              "      <th>Deaths</th>\n",
              "      <th>Recovered</th>\n",
              "      <th>Active</th>\n",
              "      <th>WHO Region</th>\n",
              "    </tr>\n",
              "  </thead>\n",
              "  <tbody>\n",
              "    <tr>\n",
              "      <th>0</th>\n",
              "      <td>Afghanistan</td>\n",
              "      <td>33.93911</td>\n",
              "      <td>67.709953</td>\n",
              "      <td>2020-01-22</td>\n",
              "      <td>0</td>\n",
              "      <td>0</td>\n",
              "      <td>0</td>\n",
              "      <td>0</td>\n",
              "      <td>Eastern Mediterranean</td>\n",
              "    </tr>\n",
              "    <tr>\n",
              "      <th>1</th>\n",
              "      <td>Albania</td>\n",
              "      <td>41.15330</td>\n",
              "      <td>20.168300</td>\n",
              "      <td>2020-01-22</td>\n",
              "      <td>0</td>\n",
              "      <td>0</td>\n",
              "      <td>0</td>\n",
              "      <td>0</td>\n",
              "      <td>Europe</td>\n",
              "    </tr>\n",
              "    <tr>\n",
              "      <th>2</th>\n",
              "      <td>Algeria</td>\n",
              "      <td>28.03390</td>\n",
              "      <td>1.659600</td>\n",
              "      <td>2020-01-22</td>\n",
              "      <td>0</td>\n",
              "      <td>0</td>\n",
              "      <td>0</td>\n",
              "      <td>0</td>\n",
              "      <td>Africa</td>\n",
              "    </tr>\n",
              "    <tr>\n",
              "      <th>3</th>\n",
              "      <td>Andorra</td>\n",
              "      <td>42.50630</td>\n",
              "      <td>1.521800</td>\n",
              "      <td>2020-01-22</td>\n",
              "      <td>0</td>\n",
              "      <td>0</td>\n",
              "      <td>0</td>\n",
              "      <td>0</td>\n",
              "      <td>Europe</td>\n",
              "    </tr>\n",
              "    <tr>\n",
              "      <th>4</th>\n",
              "      <td>Angola</td>\n",
              "      <td>-11.20270</td>\n",
              "      <td>17.873900</td>\n",
              "      <td>2020-01-22</td>\n",
              "      <td>0</td>\n",
              "      <td>0</td>\n",
              "      <td>0</td>\n",
              "      <td>0</td>\n",
              "      <td>Africa</td>\n",
              "    </tr>\n",
              "  </tbody>\n",
              "</table>\n",
              "</div>"
            ],
            "text/plain": [
              "  Country/Region       Lat       Long        Date  Confirmed  Deaths  \\\n",
              "0    Afghanistan  33.93911  67.709953  2020-01-22          0       0   \n",
              "1        Albania  41.15330  20.168300  2020-01-22          0       0   \n",
              "2        Algeria  28.03390   1.659600  2020-01-22          0       0   \n",
              "3        Andorra  42.50630   1.521800  2020-01-22          0       0   \n",
              "4         Angola -11.20270  17.873900  2020-01-22          0       0   \n",
              "\n",
              "   Recovered  Active             WHO Region  \n",
              "0          0       0  Eastern Mediterranean  \n",
              "1          0       0                 Europe  \n",
              "2          0       0                 Africa  \n",
              "3          0       0                 Europe  \n",
              "4          0       0                 Africa  "
            ]
          },
          "execution_count": 4,
          "metadata": {},
          "output_type": "execute_result"
        }
      ],
      "source": [
        "#subtask 3 - Loading dataset\n",
        "df = pd.read_csv(\"covid_19_clean_complete_2022.csv\")\n",
        "df = df.drop('Province/State', axis=1)\n",
        "df.head()"
      ]
    },
    {
      "cell_type": "code",
      "execution_count": null,
      "metadata": {
        "id": "Gg5ScS3vtaS6",
        "outputId": "6cf4e80b-52e5-436e-c035-6721b293cfef"
      },
      "outputs": [
        {
          "name": "stdout",
          "output_type": "stream",
          "text": [
            "{'Country/Region': False, 'Lat': True, 'Long': True, 'Date': False, 'Confirmed': False, 'Deaths': False, 'Recovered': False, 'Active': False, 'WHO Region': True}\n"
          ]
        },
        {
          "data": {
            "text/html": [
              "<div>\n",
              "<style scoped>\n",
              "    .dataframe tbody tr th:only-of-type {\n",
              "        vertical-align: middle;\n",
              "    }\n",
              "\n",
              "    .dataframe tbody tr th {\n",
              "        vertical-align: top;\n",
              "    }\n",
              "\n",
              "    .dataframe thead th {\n",
              "        text-align: right;\n",
              "    }\n",
              "</style>\n",
              "<table border=\"1\" class=\"dataframe\">\n",
              "  <thead>\n",
              "    <tr style=\"text-align: right;\">\n",
              "      <th></th>\n",
              "      <th>Lat</th>\n",
              "      <th>Long</th>\n",
              "      <th>Confirmed</th>\n",
              "      <th>Deaths</th>\n",
              "      <th>Recovered</th>\n",
              "      <th>Active</th>\n",
              "    </tr>\n",
              "  </thead>\n",
              "  <tbody>\n",
              "    <tr>\n",
              "      <th>count</th>\n",
              "      <td>213348.000000</td>\n",
              "      <td>213348.000000</td>\n",
              "      <td>2.148940e+05</td>\n",
              "      <td>214894.000000</td>\n",
              "      <td>2.148940e+05</td>\n",
              "      <td>2.148940e+05</td>\n",
              "    </tr>\n",
              "    <tr>\n",
              "      <th>mean</th>\n",
              "      <td>20.528131</td>\n",
              "      <td>22.735337</td>\n",
              "      <td>4.578132e+05</td>\n",
              "      <td>9310.764693</td>\n",
              "      <td>1.079987e+05</td>\n",
              "      <td>3.405037e+05</td>\n",
              "    </tr>\n",
              "    <tr>\n",
              "      <th>std</th>\n",
              "      <td>25.899139</td>\n",
              "      <td>76.304185</td>\n",
              "      <td>2.708770e+06</td>\n",
              "      <td>47497.835275</td>\n",
              "      <td>8.470111e+05</td>\n",
              "      <td>2.516382e+06</td>\n",
              "    </tr>\n",
              "    <tr>\n",
              "      <th>min</th>\n",
              "      <td>-71.949900</td>\n",
              "      <td>-178.116500</td>\n",
              "      <td>0.000000e+00</td>\n",
              "      <td>0.000000</td>\n",
              "      <td>0.000000e+00</td>\n",
              "      <td>-1.638280e+05</td>\n",
              "    </tr>\n",
              "    <tr>\n",
              "      <th>25%</th>\n",
              "      <td>6.426991</td>\n",
              "      <td>-27.932425</td>\n",
              "      <td>2.530000e+02</td>\n",
              "      <td>2.000000</td>\n",
              "      <td>0.000000e+00</td>\n",
              "      <td>1.600000e+01</td>\n",
              "    </tr>\n",
              "    <tr>\n",
              "      <th>50%</th>\n",
              "      <td>22.233350</td>\n",
              "      <td>21.752000</td>\n",
              "      <td>5.223000e+03</td>\n",
              "      <td>71.000000</td>\n",
              "      <td>4.500000e+01</td>\n",
              "      <td>1.243000e+03</td>\n",
              "    </tr>\n",
              "    <tr>\n",
              "      <th>75%</th>\n",
              "      <td>41.166070</td>\n",
              "      <td>88.658375</td>\n",
              "      <td>9.892275e+04</td>\n",
              "      <td>1675.000000</td>\n",
              "      <td>5.115750e+03</td>\n",
              "      <td>2.644675e+04</td>\n",
              "    </tr>\n",
              "    <tr>\n",
              "      <th>max</th>\n",
              "      <td>71.706900</td>\n",
              "      <td>178.065000</td>\n",
              "      <td>7.925051e+07</td>\n",
              "      <td>958144.000000</td>\n",
              "      <td>3.097475e+07</td>\n",
              "      <td>7.829236e+07</td>\n",
              "    </tr>\n",
              "  </tbody>\n",
              "</table>\n",
              "</div>"
            ],
            "text/plain": [
              "                 Lat           Long     Confirmed         Deaths  \\\n",
              "count  213348.000000  213348.000000  2.148940e+05  214894.000000   \n",
              "mean       20.528131      22.735337  4.578132e+05    9310.764693   \n",
              "std        25.899139      76.304185  2.708770e+06   47497.835275   \n",
              "min       -71.949900    -178.116500  0.000000e+00       0.000000   \n",
              "25%         6.426991     -27.932425  2.530000e+02       2.000000   \n",
              "50%        22.233350      21.752000  5.223000e+03      71.000000   \n",
              "75%        41.166070      88.658375  9.892275e+04    1675.000000   \n",
              "max        71.706900     178.065000  7.925051e+07  958144.000000   \n",
              "\n",
              "          Recovered        Active  \n",
              "count  2.148940e+05  2.148940e+05  \n",
              "mean   1.079987e+05  3.405037e+05  \n",
              "std    8.470111e+05  2.516382e+06  \n",
              "min    0.000000e+00 -1.638280e+05  \n",
              "25%    0.000000e+00  1.600000e+01  \n",
              "50%    4.500000e+01  1.243000e+03  \n",
              "75%    5.115750e+03  2.644675e+04  \n",
              "max    3.097475e+07  7.829236e+07  "
            ]
          },
          "execution_count": 4,
          "metadata": {},
          "output_type": "execute_result"
        }
      ],
      "source": [
        "#subtask 4 - data preprocessing - detecting NaN values and using describe() function\n",
        "column={}\n",
        "for x in df.columns:\n",
        "    column[x] = df[x].isnull().any()\n",
        "print(column)\n",
        "\n",
        "df.describe()"
      ]
    },
    {
      "cell_type": "code",
      "execution_count": null,
      "metadata": {
        "id": "TEiKdbYdtaS6",
        "outputId": "519bcbfa-fae1-498d-cebe-605c5491d955"
      },
      "outputs": [
        {
          "data": {
            "text/plain": [
              "(214894, 9)"
            ]
          },
          "execution_count": 5,
          "metadata": {},
          "output_type": "execute_result"
        }
      ],
      "source": [
        "#shape of dataset (dimensions)\n",
        "df.shape"
      ]
    },
    {
      "cell_type": "code",
      "execution_count": null,
      "metadata": {
        "id": "xPNTppmttaS7",
        "outputId": "5868975f-cbd3-4d81-8358-b1da1d5a6c9e"
      },
      "outputs": [
        {
          "data": {
            "text/plain": [
              "Country/Region     object\n",
              "Lat               float64\n",
              "Long              float64\n",
              "Date               object\n",
              "Confirmed           int64\n",
              "Deaths              int64\n",
              "Recovered           int64\n",
              "Active              int64\n",
              "WHO Region         object\n",
              "dtype: object"
            ]
          },
          "execution_count": 6,
          "metadata": {},
          "output_type": "execute_result"
        }
      ],
      "source": [
        "#subtask 5 - data formatting and normalization\n",
        "df.dtypes"
      ]
    },
    {
      "cell_type": "code",
      "execution_count": null,
      "metadata": {
        "id": "qA8BEwjJtaS7",
        "outputId": "641a460d-edd5-4449-b583-a56578b24b73"
      },
      "outputs": [
        {
          "data": {
            "text/plain": [
              "Country/Region            object\n",
              "Lat                      float64\n",
              "Long                     float64\n",
              "Date              datetime64[ns]\n",
              "Confirmed                  int64\n",
              "Deaths                     int64\n",
              "Recovered                  int64\n",
              "Active                     int64\n",
              "WHO Region                object\n",
              "dtype: object"
            ]
          },
          "execution_count": 7,
          "metadata": {},
          "output_type": "execute_result"
        }
      ],
      "source": [
        "df['Date'] = pd.to_datetime(df['Date'])\n",
        "df.dtypes"
      ]
    },
    {
      "cell_type": "code",
      "execution_count": null,
      "metadata": {
        "id": "NOjR-E_6taS8",
        "outputId": "22ce0bc9-44f5-4f56-8963-728f6173bd03"
      },
      "outputs": [
        {
          "data": {
            "text/html": [
              "<div>\n",
              "<style scoped>\n",
              "    .dataframe tbody tr th:only-of-type {\n",
              "        vertical-align: middle;\n",
              "    }\n",
              "\n",
              "    .dataframe tbody tr th {\n",
              "        vertical-align: top;\n",
              "    }\n",
              "\n",
              "    .dataframe thead th {\n",
              "        text-align: right;\n",
              "    }\n",
              "</style>\n",
              "<table border=\"1\" class=\"dataframe\">\n",
              "  <thead>\n",
              "    <tr style=\"text-align: right;\">\n",
              "      <th></th>\n",
              "      <th>Lat</th>\n",
              "      <th>Long</th>\n",
              "      <th>Date</th>\n",
              "      <th>Confirmed</th>\n",
              "      <th>Deaths</th>\n",
              "      <th>Recovered</th>\n",
              "      <th>Active</th>\n",
              "    </tr>\n",
              "  </thead>\n",
              "  <tbody>\n",
              "    <tr>\n",
              "      <th>0</th>\n",
              "      <td>33.93911</td>\n",
              "      <td>67.709953</td>\n",
              "      <td>2020-01-22</td>\n",
              "      <td>0</td>\n",
              "      <td>0</td>\n",
              "      <td>0</td>\n",
              "      <td>0</td>\n",
              "    </tr>\n",
              "    <tr>\n",
              "      <th>1</th>\n",
              "      <td>41.15330</td>\n",
              "      <td>20.168300</td>\n",
              "      <td>2020-01-22</td>\n",
              "      <td>0</td>\n",
              "      <td>0</td>\n",
              "      <td>0</td>\n",
              "      <td>0</td>\n",
              "    </tr>\n",
              "    <tr>\n",
              "      <th>2</th>\n",
              "      <td>28.03390</td>\n",
              "      <td>1.659600</td>\n",
              "      <td>2020-01-22</td>\n",
              "      <td>0</td>\n",
              "      <td>0</td>\n",
              "      <td>0</td>\n",
              "      <td>0</td>\n",
              "    </tr>\n",
              "    <tr>\n",
              "      <th>3</th>\n",
              "      <td>42.50630</td>\n",
              "      <td>1.521800</td>\n",
              "      <td>2020-01-22</td>\n",
              "      <td>0</td>\n",
              "      <td>0</td>\n",
              "      <td>0</td>\n",
              "      <td>0</td>\n",
              "    </tr>\n",
              "    <tr>\n",
              "      <th>4</th>\n",
              "      <td>-11.20270</td>\n",
              "      <td>17.873900</td>\n",
              "      <td>2020-01-22</td>\n",
              "      <td>0</td>\n",
              "      <td>0</td>\n",
              "      <td>0</td>\n",
              "      <td>0</td>\n",
              "    </tr>\n",
              "  </tbody>\n",
              "</table>\n",
              "</div>"
            ],
            "text/plain": [
              "        Lat       Long       Date  Confirmed  Deaths  Recovered  Active\n",
              "0  33.93911  67.709953 2020-01-22          0       0          0       0\n",
              "1  41.15330  20.168300 2020-01-22          0       0          0       0\n",
              "2  28.03390   1.659600 2020-01-22          0       0          0       0\n",
              "3  42.50630   1.521800 2020-01-22          0       0          0       0\n",
              "4 -11.20270  17.873900 2020-01-22          0       0          0       0"
            ]
          },
          "execution_count": 8,
          "metadata": {},
          "output_type": "execute_result"
        }
      ],
      "source": [
        "#subtask 6 - handling categorical values\n",
        "#dropping the categorical variable column\n",
        "df = df.drop(['WHO Region','Country/Region'], axis=1)\n",
        "df.head()"
      ]
    }
  ],
  "metadata": {
    "kernelspec": {
      "display_name": "Python 3 (ipykernel)",
      "language": "python",
      "name": "python3"
    },
    "language_info": {
      "codemirror_mode": {
        "name": "ipython",
        "version": 3
      },
      "file_extension": ".py",
      "mimetype": "text/x-python",
      "name": "python",
      "nbconvert_exporter": "python",
      "pygments_lexer": "ipython3",
      "version": "3.9.7"
    },
    "colab": {
      "name": "practice1.ipynb",
      "provenance": []
    }
  },
  "nbformat": 4,
  "nbformat_minor": 0
}